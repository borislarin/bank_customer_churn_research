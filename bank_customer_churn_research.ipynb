{
 "cells": [
  {
   "cell_type": "markdown",
   "metadata": {},
   "source": [
    " ---\n",
    "\n",
    "# Исследование оттока клиентов банка\n",
    "\n",
    "---"
   ]
  },
  {
   "cell_type": "markdown",
   "metadata": {},
   "source": [
    "<u>**Цель проекта**</u>: Построение модели для прогноза оттока клиентов банка на основании исторических данных;\n",
    "\n",
    "<u>**Сферы деятельности компаний**</u>: Банковская сфера;\n",
    "\n",
    "<u>**Навыки и инструменты**</u>: Порядковое кодирование категориальных признаков, масштабирование численных признаков, изменение баланса классов (Upsampling, Downsampling)"
   ]
  },
  {
   "cell_type": "markdown",
   "metadata": {},
   "source": [
    "### Описание данных"
   ]
  },
  {
   "cell_type": "markdown",
   "metadata": {},
   "source": [
    "**Признаки**:\n",
    "\n",
    "- *RowNumber* — индекс строки в данных\n",
    "- *CustomerId* — уникальный идентификатор клиента\n",
    "- *Surname* — фамилия\n",
    "- *CreditScore* — кредитный рейтинг\n",
    "- *Geography* — страна проживания\n",
    "- *Gender* — пол\n",
    "- *Age* — возраст\n",
    "- *Tenure* — количество недвижимости у клиента\n",
    "- *Balance* — баланс на счёте\n",
    "- *NumOfProducts* — количество продуктов банка, используемых клиентом\n",
    "- *HasCrCard* — наличие кредитной карты\n",
    "- *IsActiveMember* — активность клиента\n",
    "- *EstimatedSalary* — предполагаемая зарплата\n",
    "\n",
    "**Целевой признак**:\n",
    "- *Exited* — факт ухода клиента\n"
   ]
  },
  {
   "cell_type": "markdown",
   "metadata": {},
   "source": [
    "## 1. Загрузка, изучение и предобработка данных"
   ]
  },
  {
   "cell_type": "code",
   "execution_count": 1,
   "metadata": {},
   "outputs": [],
   "source": [
    "import pandas as pd\n",
    "import numpy as np\n",
    "import math as m\n",
    "from scipy import stats as st\n",
    "import matplotlib.pyplot as plt\n",
    "import seaborn as sns"
   ]
  },
  {
   "cell_type": "code",
   "execution_count": 2,
   "metadata": {},
   "outputs": [],
   "source": [
    "from pylab import rcParams\n",
    "%matplotlib inline\n",
    "rcParams['figure.figsize'] = 12, 10 #закомментировать в случае возникновения проблем :)\n",
    "sns.set(rc={'figure.figsize':(14,10)})"
   ]
  },
  {
   "cell_type": "code",
   "execution_count": 3,
   "metadata": {},
   "outputs": [],
   "source": [
    "import warnings\n",
    "warnings.simplefilter('ignore')\n",
    "\n",
    "from tqdm.notebook import tqdm"
   ]
  },
  {
   "cell_type": "code",
   "execution_count": 4,
   "metadata": {},
   "outputs": [],
   "source": [
    "from sklearn.model_selection import train_test_split\n",
    "\n",
    "from sklearn.preprocessing import OrdinalEncoder, StandardScaler\n",
    "\n",
    "from sklearn.utils import shuffle\n",
    "\n",
    "from sklearn.tree import DecisionTreeClassifier\n",
    "from sklearn.ensemble import RandomForestClassifier, ExtraTreesClassifier\n",
    "from sklearn.linear_model import (LogisticRegression, LinearRegression,\n",
    "                                  PassiveAggressiveClassifier, Perceptron)\n",
    "from sklearn.neighbors import KNeighborsClassifier\n",
    "from sklearn.naive_bayes import GaussianNB\n",
    "\n",
    "from sklearn.dummy import DummyClassifier\n",
    "\n",
    "from sklearn.model_selection import RandomizedSearchCV, GridSearchCV\n",
    "\n",
    "from sklearn.metrics import (accuracy_score, r2_score, f1_score, mean_squared_error,\n",
    "                             mean_absolute_error, precision_score, recall_score,\n",
    "                             precision_recall_curve, confusion_matrix, roc_curve, roc_auc_score)\n",
    "\n",
    "import joblib"
   ]
  },
  {
   "cell_type": "code",
   "execution_count": 5,
   "metadata": {},
   "outputs": [
    {
     "data": {
      "text/html": [
       "<div>\n",
       "<style scoped>\n",
       "    .dataframe tbody tr th:only-of-type {\n",
       "        vertical-align: middle;\n",
       "    }\n",
       "\n",
       "    .dataframe tbody tr th {\n",
       "        vertical-align: top;\n",
       "    }\n",
       "\n",
       "    .dataframe thead th {\n",
       "        text-align: right;\n",
       "    }\n",
       "</style>\n",
       "<table border=\"1\" class=\"dataframe\">\n",
       "  <thead>\n",
       "    <tr style=\"text-align: right;\">\n",
       "      <th></th>\n",
       "      <th>RowNumber</th>\n",
       "      <th>CustomerId</th>\n",
       "      <th>Surname</th>\n",
       "      <th>CreditScore</th>\n",
       "      <th>Geography</th>\n",
       "      <th>Gender</th>\n",
       "      <th>Age</th>\n",
       "      <th>Tenure</th>\n",
       "      <th>Balance</th>\n",
       "      <th>NumOfProducts</th>\n",
       "      <th>HasCrCard</th>\n",
       "      <th>IsActiveMember</th>\n",
       "      <th>EstimatedSalary</th>\n",
       "      <th>Exited</th>\n",
       "    </tr>\n",
       "  </thead>\n",
       "  <tbody>\n",
       "    <tr>\n",
       "      <th>0</th>\n",
       "      <td>1</td>\n",
       "      <td>15634602</td>\n",
       "      <td>Hargrave</td>\n",
       "      <td>619</td>\n",
       "      <td>France</td>\n",
       "      <td>Female</td>\n",
       "      <td>42</td>\n",
       "      <td>2.0</td>\n",
       "      <td>0.00</td>\n",
       "      <td>1</td>\n",
       "      <td>1</td>\n",
       "      <td>1</td>\n",
       "      <td>101348.88</td>\n",
       "      <td>1</td>\n",
       "    </tr>\n",
       "    <tr>\n",
       "      <th>1</th>\n",
       "      <td>2</td>\n",
       "      <td>15647311</td>\n",
       "      <td>Hill</td>\n",
       "      <td>608</td>\n",
       "      <td>Spain</td>\n",
       "      <td>Female</td>\n",
       "      <td>41</td>\n",
       "      <td>1.0</td>\n",
       "      <td>83807.86</td>\n",
       "      <td>1</td>\n",
       "      <td>0</td>\n",
       "      <td>1</td>\n",
       "      <td>112542.58</td>\n",
       "      <td>0</td>\n",
       "    </tr>\n",
       "    <tr>\n",
       "      <th>2</th>\n",
       "      <td>3</td>\n",
       "      <td>15619304</td>\n",
       "      <td>Onio</td>\n",
       "      <td>502</td>\n",
       "      <td>France</td>\n",
       "      <td>Female</td>\n",
       "      <td>42</td>\n",
       "      <td>8.0</td>\n",
       "      <td>159660.80</td>\n",
       "      <td>3</td>\n",
       "      <td>1</td>\n",
       "      <td>0</td>\n",
       "      <td>113931.57</td>\n",
       "      <td>1</td>\n",
       "    </tr>\n",
       "    <tr>\n",
       "      <th>3</th>\n",
       "      <td>4</td>\n",
       "      <td>15701354</td>\n",
       "      <td>Boni</td>\n",
       "      <td>699</td>\n",
       "      <td>France</td>\n",
       "      <td>Female</td>\n",
       "      <td>39</td>\n",
       "      <td>1.0</td>\n",
       "      <td>0.00</td>\n",
       "      <td>2</td>\n",
       "      <td>0</td>\n",
       "      <td>0</td>\n",
       "      <td>93826.63</td>\n",
       "      <td>0</td>\n",
       "    </tr>\n",
       "    <tr>\n",
       "      <th>4</th>\n",
       "      <td>5</td>\n",
       "      <td>15737888</td>\n",
       "      <td>Mitchell</td>\n",
       "      <td>850</td>\n",
       "      <td>Spain</td>\n",
       "      <td>Female</td>\n",
       "      <td>43</td>\n",
       "      <td>2.0</td>\n",
       "      <td>125510.82</td>\n",
       "      <td>1</td>\n",
       "      <td>1</td>\n",
       "      <td>1</td>\n",
       "      <td>79084.10</td>\n",
       "      <td>0</td>\n",
       "    </tr>\n",
       "    <tr>\n",
       "      <th>...</th>\n",
       "      <td>...</td>\n",
       "      <td>...</td>\n",
       "      <td>...</td>\n",
       "      <td>...</td>\n",
       "      <td>...</td>\n",
       "      <td>...</td>\n",
       "      <td>...</td>\n",
       "      <td>...</td>\n",
       "      <td>...</td>\n",
       "      <td>...</td>\n",
       "      <td>...</td>\n",
       "      <td>...</td>\n",
       "      <td>...</td>\n",
       "      <td>...</td>\n",
       "    </tr>\n",
       "    <tr>\n",
       "      <th>9995</th>\n",
       "      <td>9996</td>\n",
       "      <td>15606229</td>\n",
       "      <td>Obijiaku</td>\n",
       "      <td>771</td>\n",
       "      <td>France</td>\n",
       "      <td>Male</td>\n",
       "      <td>39</td>\n",
       "      <td>5.0</td>\n",
       "      <td>0.00</td>\n",
       "      <td>2</td>\n",
       "      <td>1</td>\n",
       "      <td>0</td>\n",
       "      <td>96270.64</td>\n",
       "      <td>0</td>\n",
       "    </tr>\n",
       "    <tr>\n",
       "      <th>9996</th>\n",
       "      <td>9997</td>\n",
       "      <td>15569892</td>\n",
       "      <td>Johnstone</td>\n",
       "      <td>516</td>\n",
       "      <td>France</td>\n",
       "      <td>Male</td>\n",
       "      <td>35</td>\n",
       "      <td>10.0</td>\n",
       "      <td>57369.61</td>\n",
       "      <td>1</td>\n",
       "      <td>1</td>\n",
       "      <td>1</td>\n",
       "      <td>101699.77</td>\n",
       "      <td>0</td>\n",
       "    </tr>\n",
       "    <tr>\n",
       "      <th>9997</th>\n",
       "      <td>9998</td>\n",
       "      <td>15584532</td>\n",
       "      <td>Liu</td>\n",
       "      <td>709</td>\n",
       "      <td>France</td>\n",
       "      <td>Female</td>\n",
       "      <td>36</td>\n",
       "      <td>7.0</td>\n",
       "      <td>0.00</td>\n",
       "      <td>1</td>\n",
       "      <td>0</td>\n",
       "      <td>1</td>\n",
       "      <td>42085.58</td>\n",
       "      <td>1</td>\n",
       "    </tr>\n",
       "    <tr>\n",
       "      <th>9998</th>\n",
       "      <td>9999</td>\n",
       "      <td>15682355</td>\n",
       "      <td>Sabbatini</td>\n",
       "      <td>772</td>\n",
       "      <td>Germany</td>\n",
       "      <td>Male</td>\n",
       "      <td>42</td>\n",
       "      <td>3.0</td>\n",
       "      <td>75075.31</td>\n",
       "      <td>2</td>\n",
       "      <td>1</td>\n",
       "      <td>0</td>\n",
       "      <td>92888.52</td>\n",
       "      <td>1</td>\n",
       "    </tr>\n",
       "    <tr>\n",
       "      <th>9999</th>\n",
       "      <td>10000</td>\n",
       "      <td>15628319</td>\n",
       "      <td>Walker</td>\n",
       "      <td>792</td>\n",
       "      <td>France</td>\n",
       "      <td>Female</td>\n",
       "      <td>28</td>\n",
       "      <td>NaN</td>\n",
       "      <td>130142.79</td>\n",
       "      <td>1</td>\n",
       "      <td>1</td>\n",
       "      <td>0</td>\n",
       "      <td>38190.78</td>\n",
       "      <td>0</td>\n",
       "    </tr>\n",
       "  </tbody>\n",
       "</table>\n",
       "<p>10000 rows × 14 columns</p>\n",
       "</div>"
      ],
      "text/plain": [
       "      RowNumber  CustomerId    Surname  CreditScore Geography  Gender  Age  \\\n",
       "0             1    15634602   Hargrave          619    France  Female   42   \n",
       "1             2    15647311       Hill          608     Spain  Female   41   \n",
       "2             3    15619304       Onio          502    France  Female   42   \n",
       "3             4    15701354       Boni          699    France  Female   39   \n",
       "4             5    15737888   Mitchell          850     Spain  Female   43   \n",
       "...         ...         ...        ...          ...       ...     ...  ...   \n",
       "9995       9996    15606229   Obijiaku          771    France    Male   39   \n",
       "9996       9997    15569892  Johnstone          516    France    Male   35   \n",
       "9997       9998    15584532        Liu          709    France  Female   36   \n",
       "9998       9999    15682355  Sabbatini          772   Germany    Male   42   \n",
       "9999      10000    15628319     Walker          792    France  Female   28   \n",
       "\n",
       "      Tenure    Balance  NumOfProducts  HasCrCard  IsActiveMember  \\\n",
       "0        2.0       0.00              1          1               1   \n",
       "1        1.0   83807.86              1          0               1   \n",
       "2        8.0  159660.80              3          1               0   \n",
       "3        1.0       0.00              2          0               0   \n",
       "4        2.0  125510.82              1          1               1   \n",
       "...      ...        ...            ...        ...             ...   \n",
       "9995     5.0       0.00              2          1               0   \n",
       "9996    10.0   57369.61              1          1               1   \n",
       "9997     7.0       0.00              1          0               1   \n",
       "9998     3.0   75075.31              2          1               0   \n",
       "9999     NaN  130142.79              1          1               0   \n",
       "\n",
       "      EstimatedSalary  Exited  \n",
       "0           101348.88       1  \n",
       "1           112542.58       0  \n",
       "2           113931.57       1  \n",
       "3            93826.63       0  \n",
       "4            79084.10       0  \n",
       "...               ...     ...  \n",
       "9995         96270.64       0  \n",
       "9996        101699.77       0  \n",
       "9997         42085.58       1  \n",
       "9998         92888.52       1  \n",
       "9999         38190.78       0  \n",
       "\n",
       "[10000 rows x 14 columns]"
      ]
     },
     "execution_count": 5,
     "metadata": {},
     "output_type": "execute_result"
    }
   ],
   "source": [
    "data = pd.read_csv(...)\n",
    "data"
   ]
  },
  {
   "cell_type": "code",
   "execution_count": 6,
   "metadata": {},
   "outputs": [
    {
     "name": "stdout",
     "output_type": "stream",
     "text": [
      "<class 'pandas.core.frame.DataFrame'>\n",
      "RangeIndex: 10000 entries, 0 to 9999\n",
      "Data columns (total 14 columns):\n",
      " #   Column           Non-Null Count  Dtype  \n",
      "---  ------           --------------  -----  \n",
      " 0   RowNumber        10000 non-null  int64  \n",
      " 1   CustomerId       10000 non-null  int64  \n",
      " 2   Surname          10000 non-null  object \n",
      " 3   CreditScore      10000 non-null  int64  \n",
      " 4   Geography        10000 non-null  object \n",
      " 5   Gender           10000 non-null  object \n",
      " 6   Age              10000 non-null  int64  \n",
      " 7   Tenure           9091 non-null   float64\n",
      " 8   Balance          10000 non-null  float64\n",
      " 9   NumOfProducts    10000 non-null  int64  \n",
      " 10  HasCrCard        10000 non-null  int64  \n",
      " 11  IsActiveMember   10000 non-null  int64  \n",
      " 12  EstimatedSalary  10000 non-null  float64\n",
      " 13  Exited           10000 non-null  int64  \n",
      "dtypes: float64(3), int64(8), object(3)\n",
      "memory usage: 1.1+ MB\n"
     ]
    }
   ],
   "source": [
    "data.info()"
   ]
  },
  {
   "cell_type": "markdown",
   "metadata": {},
   "source": [
    "После изучения данных видно, что:\n",
    "\n",
    "- Имеются пропуски в *'Tenure'*;\n",
    "- В столбце *'Tenure'* содержатся данные типа float64, а не int64;\n",
    "- Неинформативный столбец *'RowNumber'*;\n",
    "- Столбец *'Balance'* для удобства желательно привести к типу int64."
   ]
  },
  {
   "cell_type": "code",
   "execution_count": 7,
   "metadata": {},
   "outputs": [
    {
     "data": {
      "text/plain": [
       "1.0     952\n",
       "2.0     950\n",
       "8.0     933\n",
       "3.0     928\n",
       "5.0     927\n",
       "7.0     925\n",
       "4.0     885\n",
       "9.0     882\n",
       "6.0     881\n",
       "10.0    446\n",
       "0.0     382\n",
       "Name: Tenure, dtype: int64"
      ]
     },
     "execution_count": 7,
     "metadata": {},
     "output_type": "execute_result"
    }
   ],
   "source": [
    "data['Tenure'].value_counts()"
   ]
  },
  {
   "cell_type": "markdown",
   "metadata": {},
   "source": [
    "Пропуски в столбце *'Tenure'* можно заменить нулями и привести данные к типу *'int64'*:\n"
   ]
  },
  {
   "cell_type": "code",
   "execution_count": 8,
   "metadata": {},
   "outputs": [],
   "source": [
    "data['Tenure'] = data['Tenure'].fillna(0).astype(np.int64)"
   ]
  },
  {
   "cell_type": "code",
   "execution_count": 9,
   "metadata": {},
   "outputs": [],
   "source": [
    "data['Balance'] = data['Balance'].astype(np.int64)"
   ]
  },
  {
   "cell_type": "code",
   "execution_count": 10,
   "metadata": {},
   "outputs": [
    {
     "data": {
      "text/plain": [
       "['RowNumber',\n",
       " 'CustomerId',\n",
       " 'Surname',\n",
       " 'CreditScore',\n",
       " 'Geography',\n",
       " 'Gender',\n",
       " 'Age',\n",
       " 'Tenure',\n",
       " 'Balance',\n",
       " 'NumOfProducts',\n",
       " 'HasCrCard',\n",
       " 'IsActiveMember',\n",
       " 'EstimatedSalary',\n",
       " 'Exited']"
      ]
     },
     "execution_count": 10,
     "metadata": {},
     "output_type": "execute_result"
    }
   ],
   "source": [
    "data.columns.tolist()"
   ]
  },
  {
   "cell_type": "markdown",
   "metadata": {},
   "source": [
    "Фамилии клиентов нам не нужны — они никак не связаны с самим явлением оттока клиентов из банка. То же касается и столбца *'CustomerId'*."
   ]
  },
  {
   "cell_type": "code",
   "execution_count": 11,
   "metadata": {},
   "outputs": [],
   "source": [
    "data = data[['CreditScore',\n",
    "             'Geography',\n",
    "             'Gender',\n",
    "             'Age',\n",
    "             'Tenure',\n",
    "             'Balance',\n",
    "             'NumOfProducts',\n",
    "             'HasCrCard',\n",
    "             'IsActiveMember',\n",
    "             'EstimatedSalary',\n",
    "             'Exited']]"
   ]
  },
  {
   "cell_type": "markdown",
   "metadata": {},
   "source": [
    "Зададим столбцами более удобные имена:"
   ]
  },
  {
   "cell_type": "code",
   "execution_count": 12,
   "metadata": {},
   "outputs": [],
   "source": [
    "new_columns = ['credit_score',\n",
    "               'geography',\n",
    "               'gender',\n",
    "               'age',\n",
    "               'tenure',\n",
    "               'balance',\n",
    "               'number_of_products',\n",
    "               'has_credit_card',\n",
    "               'is_active_member',\n",
    "               'estimated_salary',\n",
    "               'exited']\n",
    "data.columns = new_columns"
   ]
  },
  {
   "cell_type": "markdown",
   "metadata": {},
   "source": [
    "Взглянем на типы данных:"
   ]
  },
  {
   "cell_type": "code",
   "execution_count": 13,
   "metadata": {},
   "outputs": [
    {
     "data": {
      "text/plain": [
       "credit_score            int64\n",
       "geography              object\n",
       "gender                 object\n",
       "age                     int64\n",
       "tenure                  int64\n",
       "balance                 int64\n",
       "number_of_products      int64\n",
       "has_credit_card         int64\n",
       "is_active_member        int64\n",
       "estimated_salary      float64\n",
       "exited                  int64\n",
       "dtype: object"
      ]
     },
     "execution_count": 13,
     "metadata": {},
     "output_type": "execute_result"
    }
   ],
   "source": [
    "data.dtypes"
   ]
  },
  {
   "cell_type": "markdown",
   "metadata": {},
   "source": [
    "С типами данных всё в порядке."
   ]
  },
  {
   "cell_type": "markdown",
   "metadata": {},
   "source": [
    "<div style=\"border: solid darkcyan 3px; padding: 30px\">\n",
    "    <h3 style=\"color:black; margin-bottom:25px\"> Выводы: </h3>\n",
    "    <ul>\n",
    "        <li><b>Загружен датасет, получена общая информация</b>;</li>\n",
    "        <li><b>Заполнены пропуски в столбце 'Tenure'</b>;</li>\n",
    "        <li><b>Исключены фамилии клиентов — они никак не коррелируют с целевым признаком</b>;</li>\n",
    "        <li><b>Переименованы столбцы</b>.</li>\n",
    "    </ul>\n",
    "</div>"
   ]
  },
  {
   "cell_type": "markdown",
   "metadata": {},
   "source": [
    "## 2. Кодирование признаков, деление выборки, масштабирование и изучение баланса классов"
   ]
  },
  {
   "cell_type": "markdown",
   "metadata": {},
   "source": [
    "Воспользуемся **порядковым кодированием**, чтобы из категориальных признаков получить численные:"
   ]
  },
  {
   "cell_type": "code",
   "execution_count": 14,
   "metadata": {},
   "outputs": [],
   "source": [
    "data_ohe = pd.get_dummies(data, drop_first=True)"
   ]
  },
  {
   "cell_type": "code",
   "execution_count": 15,
   "metadata": {},
   "outputs": [],
   "source": [
    "target = data_ohe['exited']\n",
    "features = data_ohe.drop(['exited'], axis=1)"
   ]
  },
  {
   "cell_type": "code",
   "execution_count": 16,
   "metadata": {},
   "outputs": [],
   "source": [
    "df_features, features_valid, df_target, target_valid = train_test_split(features,\n",
    "                                                                              target,\n",
    "                                                                              test_size=0.2,\n",
    "                                                                              random_state=12345\n",
    ")\n",
    "\n",
    "features_train, features_test, target_train, target_test = train_test_split(df_features,\n",
    "                                                                              df_target,\n",
    "                                                                              test_size=0.25,\n",
    "                                                                              random_state=12345\n",
    ")\n",
    "\n"
   ]
  },
  {
   "cell_type": "code",
   "execution_count": 17,
   "metadata": {},
   "outputs": [
    {
     "name": "stdout",
     "output_type": "stream",
     "text": [
      "Доля обучающей выборки: 60%\n",
      "Доля валидационной выборки: 20%\n",
      "Доля тестовой выборки: 20%\n"
     ]
    }
   ],
   "source": [
    "print('Доля обучающей выборки: {:.0%}'.format(len(features_train)/len(data_ohe)))\n",
    "print('Доля валидационной выборки: {:.0%}'.format(len(features_valid)/len(data_ohe)))\n",
    "print('Доля тестовой выборки: {:.0%}'.format(len(features_test)/len(data_ohe)))"
   ]
  },
  {
   "cell_type": "code",
   "execution_count": 18,
   "metadata": {},
   "outputs": [
    {
     "data": {
      "text/plain": [
       "['credit_score',\n",
       " 'age',\n",
       " 'tenure',\n",
       " 'balance',\n",
       " 'number_of_products',\n",
       " 'has_credit_card',\n",
       " 'is_active_member',\n",
       " 'estimated_salary',\n",
       " 'exited',\n",
       " 'geography_Germany',\n",
       " 'geography_Spain',\n",
       " 'gender_Male']"
      ]
     },
     "execution_count": 18,
     "metadata": {},
     "output_type": "execute_result"
    }
   ],
   "source": [
    "data_ohe.columns.tolist()"
   ]
  },
  {
   "cell_type": "markdown",
   "metadata": {},
   "source": [
    "**Масштабируем численные признаки**, прибегнув к **стандартизации**:"
   ]
  },
  {
   "cell_type": "code",
   "execution_count": 19,
   "metadata": {},
   "outputs": [],
   "source": [
    "numeric = ['credit_score',\n",
    "           'age',\n",
    "           'tenure',\n",
    "           'balance',\n",
    "           'number_of_products',\n",
    "           'estimated_salary']\n",
    "\n",
    "scaler = StandardScaler().fit(features_train[numeric])\n",
    "\n",
    "features_train[numeric] = scaler.transform(features_train[numeric])\n",
    "features_valid[numeric] = scaler.transform(features_valid[numeric])"
   ]
  },
  {
   "cell_type": "markdown",
   "metadata": {},
   "source": [
    "Посмотрим, насколько сбалансированы классы:"
   ]
  },
  {
   "cell_type": "code",
   "execution_count": 20,
   "metadata": {},
   "outputs": [
    {
     "data": {
      "text/plain": [
       "0    7963\n",
       "1    2037\n",
       "Name: exited, dtype: int64"
      ]
     },
     "execution_count": 20,
     "metadata": {},
     "output_type": "execute_result"
    }
   ],
   "source": [
    "data_ohe['exited'].value_counts()"
   ]
  },
  {
   "cell_type": "markdown",
   "metadata": {},
   "source": [
    "**Положительный класс встречается почти в четыре раза реже, чем отрицательный**."
   ]
  },
  {
   "cell_type": "markdown",
   "metadata": {},
   "source": [
    "<div style=\"border: solid darkcyan 3px; padding: 30px\">\n",
    "    <h3 style=\"color:black; margin-bottom:25px\"> Выводы: </h3>\n",
    "    <ul>\n",
    "        <li><b>Порядковым кодированием из категориальных признаков получены численные</b>;</li>\n",
    "        <li><b>Произведено разбиение на обучающую, валидационную и тестовую выборки, выделен целевой признак</b>;</li>\n",
    "        <li><b>Численные признаки масштабированы  методом стандартизации</b>;</li>\n",
    "        <li><b>Изучен баланс классов: положительный класс встречается реже отрицательного</b>.</li>\n",
    "    </ul>\n",
    "</div>"
   ]
  },
  {
   "cell_type": "markdown",
   "metadata": {},
   "source": [
    "## 3. Поиск подходящей модели и оптимальных гиперпараметров, оценка эффективности"
   ]
  },
  {
   "cell_type": "markdown",
   "metadata": {},
   "source": [
    "Для решения задачи бинарной классификации будем **обучать различные модели**, **подбирать оптимальные гиперпараметры**, а затем **оценивать полученные результаты**. Для каждой модели рассмотрим \n",
    "\n",
    "В качестве критерия выберем **F1-меру** и будем добиваться её значений в пределах от 0,59 до 1.\n",
    "\n",
    "Параллельно будем также наблюдать за **моделями, обученными без учёта дисбаланса классов**."
   ]
  },
  {
   "cell_type": "markdown",
   "metadata": {},
   "source": [
    "**1. Логистическая регрессия**"
   ]
  },
  {
   "cell_type": "markdown",
   "metadata": {},
   "source": [
    "1.1. Обучим **логистическую регрессию без учёта дисбаланса классов**:"
   ]
  },
  {
   "cell_type": "code",
   "execution_count": 21,
   "metadata": {},
   "outputs": [
    {
     "name": "stdout",
     "output_type": "stream",
     "text": [
      "Точность: 0.5915\n",
      "Полнота: 0.1967\n",
      "F1-мера: 0.2953\n"
     ]
    }
   ],
   "source": [
    "logistic_regression_unbalanced = (LogisticRegression(random_state=12345,\n",
    "                                                     class_weight=None,\n",
    "                                                     n_jobs=-1,\n",
    "                                                     solver='newton-cg')\n",
    "                                  .fit(features_train, target_train))\n",
    "\n",
    "logistic_regression_unbalanced_predicted_valid = logistic_regression_unbalanced.predict(features_valid)\n",
    "\n",
    "print('Точность: {:.4f}'.format(precision_score(target_valid,\n",
    "                                                logistic_regression_unbalanced_predicted_valid)))\n",
    "print('Полнота: {:.4f}'.format(recall_score(target_valid,\n",
    "                                            logistic_regression_unbalanced_predicted_valid)))\n",
    "print('F1-мера: {:.4f}'.format(f1_score(target_valid,\n",
    "                                        logistic_regression_unbalanced_predicted_valid)))"
   ]
  },
  {
   "cell_type": "markdown",
   "metadata": {},
   "source": [
    "Точность нельзя назвать слишком плохой, а вот с полнотой наблюдаются серьёзные проблемы, и низкое значение F1-меры это подтверждает."
   ]
  },
  {
   "cell_type": "markdown",
   "metadata": {},
   "source": [
    "1.2. **Сбалансируем классы взвешиванием** и посмотрим, как изменились точность и полнота:"
   ]
  },
  {
   "cell_type": "code",
   "execution_count": 22,
   "metadata": {},
   "outputs": [
    {
     "name": "stdout",
     "output_type": "stream",
     "text": [
      "Точность: 0.3926\n",
      "Полнота: 0.6979\n",
      "F1-мера: 0.5025\n"
     ]
    }
   ],
   "source": [
    "logistic_regression_weighted = (LogisticRegression(random_state=12345,\n",
    "                                                      class_weight='balanced',\n",
    "                                                      n_jobs=-1,\n",
    "                                                      solver='liblinear')\n",
    "                                   .fit(features_train, target_train))\n",
    "\n",
    "logistic_regression_weighted_predicted_valid = logistic_regression_weighted.predict(features_valid)\n",
    "\n",
    "print('Точность: {:.4f}'.format(precision_score(target_valid,\n",
    "                                                logistic_regression_weighted_predicted_valid)))\n",
    "print('Полнота: {:.4f}'.format(recall_score(target_valid,\n",
    "                                            logistic_regression_weighted_predicted_valid)))\n",
    "print('F1-мера: {:.4f}'.format(f1_score(target_valid,\n",
    "                                        logistic_regression_weighted_predicted_valid)))"
   ]
  },
  {
   "cell_type": "markdown",
   "metadata": {},
   "source": [
    "Видно, что в сбалансированной по классам выборке точность упала, однако полнота возросла существенно, и F1-мера превысила значение 0,5."
   ]
  },
  {
   "cell_type": "markdown",
   "metadata": {},
   "source": [
    "Посмотрим, как изменится F1-мера, если сбалансировать классы, применяя **upsampling** и **downsampling**:"
   ]
  },
  {
   "cell_type": "code",
   "execution_count": 23,
   "metadata": {},
   "outputs": [],
   "source": [
    "def upsample_class_1(features, target, repeat):\n",
    "    features_zeros = features[target == 0]\n",
    "    features_ones = features[target == 1]\n",
    "    target_zeros = target[target == 0]\n",
    "    target_ones = target[target == 1]\n",
    "    \n",
    "    features_upsampled = pd.concat([features_zeros] + [features_ones] * repeat)\n",
    "    target_upsampled = pd.concat([target_zeros] + [target_ones] * repeat)\n",
    "    \n",
    "    features_upsampled, target_upsampled = shuffle(\n",
    "        features_upsampled, target_upsampled, random_state=12345)\n",
    "    \n",
    "    return features_upsampled, target_upsampled\n",
    "\n",
    "def downsample_class_0(features, target, fraction):\n",
    "    features_zeros = features[target == 0]\n",
    "    features_ones = features[target == 1]\n",
    "    target_zeros = target[target == 0]\n",
    "    target_ones = target[target == 1]\n",
    "\n",
    "    features_downsampled = pd.concat(\n",
    "        [features_zeros.sample(frac=fraction, random_state=12345)] + [features_ones])\n",
    "    target_downsampled = pd.concat(\n",
    "        [target_zeros.sample(frac=fraction, random_state=12345)] + [target_ones])\n",
    "    \n",
    "    features_downsampled, target_downsampled = shuffle(\n",
    "        features_downsampled, target_downsampled, random_state=12345)\n",
    "    \n",
    "    return features_downsampled, target_downsampled\n",
    "\n",
    "\n",
    "\n",
    "features_train_upsampled, target_train_upsampled = upsample_class_1(features_train,\n",
    "                                                                    target_train,\n",
    "                                                                    4)\n",
    "\n",
    "features_train_downsampled, target_train_downsampled = downsample_class_0(features_train,\n",
    "                                                                          target_train,\n",
    "                                                                          0.1)\n"
   ]
  },
  {
   "cell_type": "markdown",
   "metadata": {},
   "source": [
    "1.3. **Upsampling**:"
   ]
  },
  {
   "cell_type": "code",
   "execution_count": 24,
   "metadata": {},
   "outputs": [
    {
     "name": "stdout",
     "output_type": "stream",
     "text": [
      "Точность: 0.3907\n",
      "Полнота: 0.7073\n",
      "F1-мера: 0.5033\n"
     ]
    }
   ],
   "source": [
    "logistic_regression_upsampled = (LogisticRegression(random_state=12345,\n",
    "                                                      class_weight=None,\n",
    "                                                      n_jobs=-1,\n",
    "                                                      solver='liblinear')\n",
    "                                   .fit(features_train_upsampled, target_train_upsampled))\n",
    "\n",
    "logistic_regression_upsampled_predicted_valid = logistic_regression_upsampled.predict(features_valid)\n",
    "\n",
    "print('Точность: {:.4f}'\n",
    "      .format(precision_score(target_valid, logistic_regression_upsampled_predicted_valid)))\n",
    "print('Полнота: {:.4f}'\n",
    "      .format(recall_score(target_valid, logistic_regression_upsampled_predicted_valid)))\n",
    "print('F1-мера: {:.4f}'\n",
    "      .format(f1_score(target_valid, logistic_regression_upsampled_predicted_valid)))"
   ]
  },
  {
   "cell_type": "markdown",
   "metadata": {},
   "source": [
    "1.4. **Downsampling**:"
   ]
  },
  {
   "cell_type": "code",
   "execution_count": 25,
   "metadata": {},
   "outputs": [
    {
     "name": "stdout",
     "output_type": "stream",
     "text": [
      "Точность: 0.2743\n",
      "Полнота: 0.9251\n",
      "F1-мера: 0.4231\n"
     ]
    }
   ],
   "source": [
    "logistic_regression_downsampled = (LogisticRegression(random_state=12345,\n",
    "                                                      class_weight=None,\n",
    "                                                      n_jobs=-1,\n",
    "                                                      solver='liblinear')\n",
    "                                   .fit(features_train_downsampled, target_train_downsampled))\n",
    "\n",
    "logistic_regression_downsampled_predicted_valid = logistic_regression_downsampled.predict(features_valid)\n",
    "\n",
    "print('Точность: {:.4f}'\n",
    "      .format(precision_score(target_valid, logistic_regression_downsampled_predicted_valid)))\n",
    "print('Полнота: {:.4f}'\n",
    "      .format(recall_score(target_valid, logistic_regression_downsampled_predicted_valid)))\n",
    "print('F1-мера: {:.4f}'\n",
    "      .format(f1_score(target_valid, logistic_regression_downsampled_predicted_valid)))"
   ]
  },
  {
   "cell_type": "markdown",
   "metadata": {},
   "source": [
    "Очевидно, что **взвешивание классов гораздо эффективнее копирования части объектов редкого класса или удаления части объектов распространённого**.\n",
    "\n",
    "До порогового значения 0,59 ещё далеко. Для того, чтобы достичь искомого значения F1-меры, обучим ещё 2 модели, посмотрим на их применимость и выберем наиболее эффективную:"
   ]
  },
  {
   "cell_type": "markdown",
   "metadata": {},
   "source": [
    "**2. Случайный лес:**"
   ]
  },
  {
   "cell_type": "markdown",
   "metadata": {},
   "source": [
    "С помощью **RandomizedSearchCV** будем находить значения, приближённые к оптимальным.\n",
    "\n",
    "Ограничим число активных потоков до 4, чтобы соблюсти баланс между используемой вычислительной мощностью и остаточной мультизадачностью:"
   ]
  },
  {
   "cell_type": "markdown",
   "metadata": {},
   "source": [
    "2.1. **Обучение без учёта дисбаланса классов**:"
   ]
  },
  {
   "cell_type": "code",
   "execution_count": 26,
   "metadata": {},
   "outputs": [
    {
     "name": "stdout",
     "output_type": "stream",
     "text": [
      "Fitting 5 folds for each of 1000 candidates, totalling 5000 fits\n"
     ]
    },
    {
     "name": "stderr",
     "output_type": "stream",
     "text": [
      "[Parallel(n_jobs=-1)]: Using backend LokyBackend with 6 concurrent workers.\n",
      "[Parallel(n_jobs=-1)]: Done  20 tasks      | elapsed:    4.1s\n",
      "[Parallel(n_jobs=-1)]: Done 116 tasks      | elapsed:   20.0s\n",
      "[Parallel(n_jobs=-1)]: Done 276 tasks      | elapsed:   40.0s\n",
      "[Parallel(n_jobs=-1)]: Done 500 tasks      | elapsed:  1.2min\n",
      "[Parallel(n_jobs=-1)]: Done 788 tasks      | elapsed:  1.9min\n",
      "[Parallel(n_jobs=-1)]: Done 1140 tasks      | elapsed:  2.7min\n",
      "[Parallel(n_jobs=-1)]: Done 1556 tasks      | elapsed:  3.7min\n",
      "[Parallel(n_jobs=-1)]: Done 2036 tasks      | elapsed:  4.8min\n",
      "[Parallel(n_jobs=-1)]: Done 2580 tasks      | elapsed:  6.0min\n",
      "[Parallel(n_jobs=-1)]: Done 3188 tasks      | elapsed:  7.3min\n",
      "[Parallel(n_jobs=-1)]: Done 3860 tasks      | elapsed:  8.9min\n",
      "[Parallel(n_jobs=-1)]: Done 4596 tasks      | elapsed: 10.6min\n",
      "[Parallel(n_jobs=-1)]: Done 5000 out of 5000 | elapsed: 11.5min finished\n"
     ]
    },
    {
     "name": "stdout",
     "output_type": "stream",
     "text": [
      "Wall time: 11min 30s\n"
     ]
    }
   ],
   "source": [
    "%%time\n",
    "\n",
    "parameters = {'n_estimators': range(1, 300),\n",
    "              'max_depth': range (1, 30)}\n",
    "\n",
    "random_forest_classifier_unbalanced_parameters = (\n",
    "    RandomizedSearchCV(RandomForestClassifier(\n",
    "    criterion='entropy',\n",
    "    random_state=12345,\n",
    "    class_weight=None,\n",
    "    n_jobs=-1),\n",
    "                       parameters,\n",
    "                       n_iter=1000,\n",
    "                       scoring='f1',\n",
    "                       n_jobs=-1,\n",
    "                       refit=True,\n",
    "                       verbose=3)\n",
    "    .fit(features_train, target_train))"
   ]
  },
  {
   "cell_type": "code",
   "execution_count": 27,
   "metadata": {},
   "outputs": [
    {
     "data": {
      "text/plain": [
       "{'n_estimators': 193, 'max_depth': 20}"
      ]
     },
     "execution_count": 27,
     "metadata": {},
     "output_type": "execute_result"
    }
   ],
   "source": [
    "random_forest_classifier_unbalanced_parameters.best_params_"
   ]
  },
  {
   "cell_type": "code",
   "execution_count": 28,
   "metadata": {},
   "outputs": [
    {
     "name": "stdout",
     "output_type": "stream",
     "text": [
      "Точность: 0.7661\n",
      "Полнота: 0.4450\n",
      "F1-мера: 0.5630\n"
     ]
    }
   ],
   "source": [
    "random_forest_classifier_unbalanced = (\n",
    "    RandomForestClassifier\n",
    "    .set_params(RandomForestClassifier(random_state=12345,\n",
    "                                       class_weight=None,\n",
    "                                       n_jobs=-1),\n",
    "                **random_forest_classifier_unbalanced_parameters\n",
    "                .best_params_)\n",
    "    .fit(features_train, target_train))\n",
    "\n",
    "random_forest_classifier_unbalanced_predicted_valid = (random_forest_classifier_unbalanced\n",
    "                                                       .predict(features_valid))\n",
    "\n",
    "print('Точность: {:.4f}'\n",
    "      .format(precision_score(target_valid, random_forest_classifier_unbalanced_predicted_valid)))\n",
    "print('Полнота: {:.4f}'\n",
    "      .format(recall_score(target_valid, random_forest_classifier_unbalanced_predicted_valid)))\n",
    "print('F1-мера: {:.4f}'\n",
    "      .format(f1_score(target_valid, random_forest_classifier_unbalanced_predicted_valid)))"
   ]
  },
  {
   "cell_type": "markdown",
   "metadata": {},
   "source": [
    "2.2. Сбалансируем классы **взвешиванием**:"
   ]
  },
  {
   "cell_type": "code",
   "execution_count": 29,
   "metadata": {},
   "outputs": [
    {
     "name": "stdout",
     "output_type": "stream",
     "text": [
      "Fitting 5 folds for each of 1000 candidates, totalling 5000 fits\n"
     ]
    },
    {
     "name": "stderr",
     "output_type": "stream",
     "text": [
      "[Parallel(n_jobs=-1)]: Using backend LokyBackend with 6 concurrent workers.\n",
      "[Parallel(n_jobs=-1)]: Done  20 tasks      | elapsed:    1.6s\n",
      "[Parallel(n_jobs=-1)]: Done 116 tasks      | elapsed:   13.4s\n",
      "[Parallel(n_jobs=-1)]: Done 276 tasks      | elapsed:   34.4s\n",
      "[Parallel(n_jobs=-1)]: Done 500 tasks      | elapsed:  1.1min\n",
      "[Parallel(n_jobs=-1)]: Done 788 tasks      | elapsed:  1.7min\n",
      "[Parallel(n_jobs=-1)]: Done 1140 tasks      | elapsed:  2.5min\n",
      "[Parallel(n_jobs=-1)]: Done 1556 tasks      | elapsed:  3.6min\n",
      "[Parallel(n_jobs=-1)]: Done 2036 tasks      | elapsed:  4.7min\n",
      "[Parallel(n_jobs=-1)]: Done 2580 tasks      | elapsed:  5.8min\n",
      "[Parallel(n_jobs=-1)]: Done 3188 tasks      | elapsed:  7.2min\n",
      "[Parallel(n_jobs=-1)]: Done 3860 tasks      | elapsed:  8.7min\n",
      "[Parallel(n_jobs=-1)]: Done 4596 tasks      | elapsed: 10.3min\n"
     ]
    },
    {
     "name": "stdout",
     "output_type": "stream",
     "text": [
      "Wall time: 11min 15s\n"
     ]
    },
    {
     "name": "stderr",
     "output_type": "stream",
     "text": [
      "[Parallel(n_jobs=-1)]: Done 5000 out of 5000 | elapsed: 11.2min finished\n"
     ]
    }
   ],
   "source": [
    "%%time\n",
    "\n",
    "parameters = {'n_estimators': range(1, 300),\n",
    "              'max_depth': range (1, 30)}\n",
    "\n",
    "random_forest_classifier_weighted_parameters = (\n",
    "    RandomizedSearchCV(RandomForestClassifier(criterion='entropy',\n",
    "                                              random_state=12345,\n",
    "                                              class_weight='balanced',\n",
    "                                              n_jobs=-1),\n",
    "                       parameters,\n",
    "                       scoring='f1',\n",
    "                       n_iter=1000,\n",
    "                       n_jobs=-1,\n",
    "                       refit=True,\n",
    "                       verbose=3)\n",
    "    .fit(features_train, target_train))"
   ]
  },
  {
   "cell_type": "code",
   "execution_count": 30,
   "metadata": {},
   "outputs": [
    {
     "data": {
      "text/plain": [
       "{'n_estimators': 56, 'max_depth': 9}"
      ]
     },
     "execution_count": 30,
     "metadata": {},
     "output_type": "execute_result"
    }
   ],
   "source": [
    "random_forest_classifier_weighted_parameters.best_params_"
   ]
  },
  {
   "cell_type": "code",
   "execution_count": 31,
   "metadata": {},
   "outputs": [
    {
     "name": "stdout",
     "output_type": "stream",
     "text": [
      "Точность: 0.6234\n",
      "Полнота: 0.6745\n",
      "F1-мера: 0.6479\n"
     ]
    }
   ],
   "source": [
    "random_forest_classifier_weighted = (\n",
    "    RandomForestClassifier\n",
    "    .set_params(RandomForestClassifier(random_state=12345,\n",
    "                                       class_weight='balanced',\n",
    "                                       n_jobs=-1),\n",
    "                **random_forest_classifier_weighted_parameters\n",
    "                .best_params_)\n",
    "    .fit(features_train, target_train))\n",
    "\n",
    "random_forest_classifier_weighted_predicted_valid = (random_forest_classifier_weighted\n",
    "                                                    .predict(features_valid))\n",
    "\n",
    "print('Точность: {:.4f}'\n",
    "      .format(precision_score(target_valid,\n",
    "                              random_forest_classifier_weighted_predicted_valid)))\n",
    "print('Полнота: {:.4f}'\n",
    "      .format(recall_score(target_valid,\n",
    "                           random_forest_classifier_weighted_predicted_valid)))\n",
    "print('F1-мера: {:.4f}'\n",
    "      .format(f1_score(target_valid,\n",
    "                       random_forest_classifier_weighted_predicted_valid)))"
   ]
  },
  {
   "cell_type": "markdown",
   "metadata": {},
   "source": [
    "2.3. Сбалансируем классы методом **upsampling**:"
   ]
  },
  {
   "cell_type": "code",
   "execution_count": 32,
   "metadata": {},
   "outputs": [
    {
     "name": "stdout",
     "output_type": "stream",
     "text": [
      "Fitting 5 folds for each of 1000 candidates, totalling 5000 fits\n"
     ]
    },
    {
     "name": "stderr",
     "output_type": "stream",
     "text": [
      "[Parallel(n_jobs=-1)]: Using backend LokyBackend with 6 concurrent workers.\n",
      "[Parallel(n_jobs=-1)]: Done  20 tasks      | elapsed:    4.6s\n",
      "[Parallel(n_jobs=-1)]: Done 116 tasks      | elapsed:   21.5s\n",
      "[Parallel(n_jobs=-1)]: Done 276 tasks      | elapsed:   48.5s\n",
      "[Parallel(n_jobs=-1)]: Done 500 tasks      | elapsed:  1.5min\n",
      "[Parallel(n_jobs=-1)]: Done 788 tasks      | elapsed:  2.3min\n",
      "[Parallel(n_jobs=-1)]: Done 1140 tasks      | elapsed:  3.2min\n",
      "[Parallel(n_jobs=-1)]: Done 1556 tasks      | elapsed:  4.5min\n",
      "[Parallel(n_jobs=-1)]: Done 2036 tasks      | elapsed:  5.9min\n",
      "[Parallel(n_jobs=-1)]: Done 2580 tasks      | elapsed:  7.6min\n",
      "[Parallel(n_jobs=-1)]: Done 3188 tasks      | elapsed:  9.4min\n",
      "[Parallel(n_jobs=-1)]: Done 3860 tasks      | elapsed: 11.4min\n",
      "[Parallel(n_jobs=-1)]: Done 4596 tasks      | elapsed: 13.7min\n",
      "[Parallel(n_jobs=-1)]: Done 5000 out of 5000 | elapsed: 14.9min finished\n"
     ]
    },
    {
     "name": "stdout",
     "output_type": "stream",
     "text": [
      "Wall time: 14min 56s\n"
     ]
    }
   ],
   "source": [
    "%%time\n",
    "\n",
    "parameters = {'n_estimators': range(1, 300),\n",
    "              'max_depth': range (1, 30)}\n",
    "\n",
    "random_forest_classifier_upsampled_parameters = (\n",
    "    RandomizedSearchCV(RandomForestClassifier(criterion='entropy',\n",
    "                                              random_state=12345,\n",
    "                                              class_weight=None,\n",
    "                                              n_jobs=-1),\n",
    "                       parameters,\n",
    "                       scoring='f1',\n",
    "                       n_iter=1000,\n",
    "                       n_jobs=-1,\n",
    "                       refit=True,\n",
    "                       verbose=3)\n",
    "    .fit(features_train_upsampled, target_train_upsampled))"
   ]
  },
  {
   "cell_type": "code",
   "execution_count": 33,
   "metadata": {},
   "outputs": [
    {
     "data": {
      "text/plain": [
       "{'n_estimators': 206, 'max_depth': 27}"
      ]
     },
     "execution_count": 33,
     "metadata": {},
     "output_type": "execute_result"
    }
   ],
   "source": [
    "random_forest_classifier_upsampled_parameters.best_params_"
   ]
  },
  {
   "cell_type": "code",
   "execution_count": 34,
   "metadata": {},
   "outputs": [
    {
     "name": "stdout",
     "output_type": "stream",
     "text": [
      "Точность: 0.6805\n",
      "Полнота: 0.5386\n",
      "F1-мера: 0.6013\n"
     ]
    }
   ],
   "source": [
    "random_forest_classifier_upsampled = (RandomForestClassifier\n",
    "                            .set_params(RandomForestClassifier(random_state=12345,\n",
    "                                                               class_weight=None,\n",
    "                                                               n_jobs=-1),\n",
    "                                        **random_forest_classifier_upsampled_parameters\n",
    "                                        .best_params_)\n",
    "                            .fit(features_train_upsampled, target_train_upsampled))\n",
    "\n",
    "random_forest_classifier_upsampled_predicted_valid = (random_forest_classifier_upsampled\n",
    "                                                                .predict(features_valid))\n",
    "\n",
    "print('Точность: {:.4f}'\n",
    "      .format(precision_score(target_valid,\n",
    "                              random_forest_classifier_upsampled_predicted_valid)))\n",
    "print('Полнота: {:.4f}'\n",
    "      .format(recall_score(target_valid,\n",
    "                           random_forest_classifier_upsampled_predicted_valid)))\n",
    "print('F1-мера: {:.4f}'\n",
    "      .format(f1_score(target_valid,\n",
    "                       random_forest_classifier_upsampled_predicted_valid)))"
   ]
  },
  {
   "cell_type": "markdown",
   "metadata": {},
   "source": [
    "2.4. Взвесим классы методом **downsampling**:"
   ]
  },
  {
   "cell_type": "code",
   "execution_count": 35,
   "metadata": {},
   "outputs": [
    {
     "name": "stdout",
     "output_type": "stream",
     "text": [
      "Fitting 5 folds for each of 1000 candidates, totalling 5000 fits\n"
     ]
    },
    {
     "name": "stderr",
     "output_type": "stream",
     "text": [
      "[Parallel(n_jobs=-1)]: Using backend LokyBackend with 6 concurrent workers.\n",
      "[Parallel(n_jobs=-1)]: Done  20 tasks      | elapsed:    1.5s\n",
      "[Parallel(n_jobs=-1)]: Done 116 tasks      | elapsed:    8.1s\n",
      "[Parallel(n_jobs=-1)]: Done 276 tasks      | elapsed:   19.4s\n",
      "[Parallel(n_jobs=-1)]: Done 500 tasks      | elapsed:   37.0s\n",
      "[Parallel(n_jobs=-1)]: Done 788 tasks      | elapsed:  1.1min\n",
      "[Parallel(n_jobs=-1)]: Done 1140 tasks      | elapsed:  1.5min\n",
      "[Parallel(n_jobs=-1)]: Done 1556 tasks      | elapsed:  2.1min\n",
      "[Parallel(n_jobs=-1)]: Done 2036 tasks      | elapsed:  2.7min\n",
      "[Parallel(n_jobs=-1)]: Done 2580 tasks      | elapsed:  3.4min\n",
      "[Parallel(n_jobs=-1)]: Done 3188 tasks      | elapsed:  4.1min\n",
      "[Parallel(n_jobs=-1)]: Done 3860 tasks      | elapsed:  5.0min\n",
      "[Parallel(n_jobs=-1)]: Done 4596 tasks      | elapsed:  5.9min\n",
      "[Parallel(n_jobs=-1)]: Done 5000 out of 5000 | elapsed:  6.4min finished\n"
     ]
    },
    {
     "name": "stdout",
     "output_type": "stream",
     "text": [
      "Wall time: 6min 26s\n"
     ]
    }
   ],
   "source": [
    "%%time\n",
    "\n",
    "parameters = {'n_estimators': range(1, 300),\n",
    "              'max_depth': range (1, 30)}\n",
    "\n",
    "random_forest_classifier_downsampled_parameters = (\n",
    "    RandomizedSearchCV(RandomForestClassifier(criterion='entropy',\n",
    "                                              random_state=12345,\n",
    "                                              class_weight=None,\n",
    "                                              n_jobs=-1),\n",
    "                       parameters,\n",
    "                       scoring='f1',\n",
    "                       n_iter=1000,\n",
    "                       n_jobs=-1,\n",
    "                       refit=True,\n",
    "                       verbose=3)\n",
    "    .fit(features_train_downsampled, target_train_downsampled))"
   ]
  },
  {
   "cell_type": "code",
   "execution_count": 36,
   "metadata": {},
   "outputs": [
    {
     "data": {
      "text/plain": [
       "{'n_estimators': 272, 'max_depth': 8}"
      ]
     },
     "execution_count": 36,
     "metadata": {},
     "output_type": "execute_result"
    }
   ],
   "source": [
    "random_forest_classifier_downsampled_parameters.best_params_"
   ]
  },
  {
   "cell_type": "code",
   "execution_count": 37,
   "metadata": {},
   "outputs": [
    {
     "name": "stdout",
     "output_type": "stream",
     "text": [
      "Точность: 0.3273\n",
      "Полнота: 0.9321\n",
      "F1-мера: 0.4845\n"
     ]
    }
   ],
   "source": [
    "random_forest_classifier_downsampled = (RandomForestClassifier\n",
    "                            .set_params(RandomForestClassifier(random_state=12345,\n",
    "                                                               class_weight=None,\n",
    "                                                               n_jobs=-1),\n",
    "                                        **random_forest_classifier_downsampled_parameters\n",
    "                                        .best_params_)\n",
    "                            .fit(features_train_downsampled, target_train_downsampled))\n",
    "\n",
    "random_forest_classifier_downsampled_predicted_valid = (random_forest_classifier_downsampled\n",
    "                                                        .predict(features_valid))\n",
    "\n",
    "print('Точность: {:.4f}'\n",
    "      .format(precision_score(target_valid,\n",
    "                              random_forest_classifier_downsampled_predicted_valid)))\n",
    "print('Полнота: {:.4f}'\n",
    "      .format(recall_score(target_valid,\n",
    "                           random_forest_classifier_downsampled_predicted_valid)))\n",
    "print('F1-мера: {:.4f}'\n",
    "      .format(f1_score(target_valid,\n",
    "                       random_forest_classifier_downsampled_predicted_valid)))"
   ]
  },
  {
   "cell_type": "markdown",
   "metadata": {},
   "source": [
    "**3. Классификатор экстремально рандомизированных деревьев:**"
   ]
  },
  {
   "cell_type": "markdown",
   "metadata": {},
   "source": [
    "3.1. Обучим модель **без учёта дисбаланса классов**:"
   ]
  },
  {
   "cell_type": "code",
   "execution_count": 38,
   "metadata": {
    "scrolled": true
   },
   "outputs": [
    {
     "name": "stdout",
     "output_type": "stream",
     "text": [
      "Fitting 5 folds for each of 1000 candidates, totalling 5000 fits\n"
     ]
    },
    {
     "name": "stderr",
     "output_type": "stream",
     "text": [
      "[Parallel(n_jobs=-1)]: Using backend LokyBackend with 6 concurrent workers.\n",
      "[Parallel(n_jobs=-1)]: Done  20 tasks      | elapsed:    1.9s\n",
      "[Parallel(n_jobs=-1)]: Done 116 tasks      | elapsed:   10.6s\n",
      "[Parallel(n_jobs=-1)]: Done 276 tasks      | elapsed:   26.9s\n",
      "[Parallel(n_jobs=-1)]: Done 500 tasks      | elapsed:   50.2s\n",
      "[Parallel(n_jobs=-1)]: Done 788 tasks      | elapsed:  1.2min\n",
      "[Parallel(n_jobs=-1)]: Done 1140 tasks      | elapsed:  1.8min\n",
      "[Parallel(n_jobs=-1)]: Done 1556 tasks      | elapsed:  2.4min\n",
      "[Parallel(n_jobs=-1)]: Done 2036 tasks      | elapsed:  3.1min\n",
      "[Parallel(n_jobs=-1)]: Done 2580 tasks      | elapsed:  3.9min\n",
      "[Parallel(n_jobs=-1)]: Done 3188 tasks      | elapsed:  4.8min\n",
      "[Parallel(n_jobs=-1)]: Done 3860 tasks      | elapsed:  5.8min\n",
      "[Parallel(n_jobs=-1)]: Done 4596 tasks      | elapsed:  7.0min\n"
     ]
    },
    {
     "name": "stdout",
     "output_type": "stream",
     "text": [
      "Wall time: 7min 35s\n"
     ]
    },
    {
     "name": "stderr",
     "output_type": "stream",
     "text": [
      "[Parallel(n_jobs=-1)]: Done 5000 out of 5000 | elapsed:  7.6min finished\n"
     ]
    }
   ],
   "source": [
    "%%time\n",
    "\n",
    "parameters = {'n_estimators': range(0, 300),\n",
    "             'max_depth': range (0, 30)}\n",
    "\n",
    "extra_trees_classifier_unbalanced_parameters = (RandomizedSearchCV(ExtraTreesClassifier(criterion='entropy',\n",
    "                                                                             random_state=12345,\n",
    "                                                                             class_weight=None,\n",
    "                                                                             n_jobs=-1),\n",
    "                                                        parameters,\n",
    "                                                        n_iter=1000,\n",
    "                                                        scoring='f1',\n",
    "                                                        n_jobs=-1,\n",
    "                                                        refit=True,\n",
    "                                                        verbose=3)\n",
    "                                     .fit(features_train, target_train))"
   ]
  },
  {
   "cell_type": "code",
   "execution_count": 39,
   "metadata": {},
   "outputs": [
    {
     "data": {
      "text/plain": [
       "{'n_estimators': 43, 'max_depth': 29}"
      ]
     },
     "execution_count": 39,
     "metadata": {},
     "output_type": "execute_result"
    }
   ],
   "source": [
    "extra_trees_classifier_unbalanced_parameters.best_params_"
   ]
  },
  {
   "cell_type": "code",
   "execution_count": 40,
   "metadata": {},
   "outputs": [
    {
     "name": "stdout",
     "output_type": "stream",
     "text": [
      "Точность: 0.7265\n",
      "Полнота: 0.4169\n",
      "F1-мера: 0.5298\n"
     ]
    }
   ],
   "source": [
    "extra_trees_classifier_unbalanced = (ExtraTreesClassifier\n",
    "                            .set_params(ExtraTreesClassifier(random_state=12345,\n",
    "                                                             class_weight=None,\n",
    "                                                             n_jobs=-1),\n",
    "                                        **extra_trees_classifier_unbalanced_parameters\n",
    "                                        .best_params_)\n",
    "                            .fit(features_train, target_train))\n",
    "\n",
    "extra_trees_classifier_unbalanced_predicted_valid = (extra_trees_classifier_unbalanced\n",
    "                                                     .predict(features_valid))\n",
    "\n",
    "print('Точность: {:.4f}'\n",
    "      .format(precision_score(target_valid,\n",
    "                              extra_trees_classifier_unbalanced_predicted_valid)))\n",
    "print('Полнота: {:.4f}'\n",
    "      .format(recall_score(target_valid,\n",
    "                           extra_trees_classifier_unbalanced_predicted_valid)))\n",
    "print('F1-мера: {:.4f}'\n",
    "      .format(f1_score(target_valid,\n",
    "                       extra_trees_classifier_unbalanced_predicted_valid)))"
   ]
  },
  {
   "cell_type": "markdown",
   "metadata": {},
   "source": [
    "3.2. Сбалансируем классы **взвешиванием**:"
   ]
  },
  {
   "cell_type": "code",
   "execution_count": 41,
   "metadata": {},
   "outputs": [
    {
     "name": "stdout",
     "output_type": "stream",
     "text": [
      "Fitting 5 folds for each of 1000 candidates, totalling 5000 fits\n"
     ]
    },
    {
     "name": "stderr",
     "output_type": "stream",
     "text": [
      "[Parallel(n_jobs=-1)]: Using backend LokyBackend with 6 concurrent workers.\n",
      "[Parallel(n_jobs=-1)]: Done  20 tasks      | elapsed:    2.3s\n",
      "[Parallel(n_jobs=-1)]: Done 116 tasks      | elapsed:   12.4s\n",
      "[Parallel(n_jobs=-1)]: Done 276 tasks      | elapsed:   27.1s\n",
      "[Parallel(n_jobs=-1)]: Done 500 tasks      | elapsed:   48.1s\n",
      "[Parallel(n_jobs=-1)]: Done 788 tasks      | elapsed:  1.2min\n",
      "[Parallel(n_jobs=-1)]: Done 1140 tasks      | elapsed:  1.7min\n",
      "[Parallel(n_jobs=-1)]: Done 1556 tasks      | elapsed:  2.4min\n",
      "[Parallel(n_jobs=-1)]: Done 2036 tasks      | elapsed:  3.1min\n",
      "[Parallel(n_jobs=-1)]: Done 2580 tasks      | elapsed:  3.9min\n",
      "[Parallel(n_jobs=-1)]: Done 3188 tasks      | elapsed:  4.9min\n",
      "[Parallel(n_jobs=-1)]: Done 3860 tasks      | elapsed:  6.0min\n",
      "[Parallel(n_jobs=-1)]: Done 4596 tasks      | elapsed:  7.1min\n",
      "[Parallel(n_jobs=-1)]: Done 5000 out of 5000 | elapsed:  7.7min finished\n"
     ]
    },
    {
     "name": "stdout",
     "output_type": "stream",
     "text": [
      "Wall time: 7min 42s\n"
     ]
    }
   ],
   "source": [
    "%%time\n",
    "\n",
    "parameters = {'n_estimators': range(0, 300),\n",
    "             'max_depth': range (0, 30)}\n",
    "\n",
    "extra_trees_classifier_weighted_parameters = (\n",
    "    RandomizedSearchCV(ExtraTreesClassifier(criterion='entropy',\n",
    "                                            random_state=12345,\n",
    "                                            class_weight='balanced',\n",
    "                                            n_jobs=-1),\n",
    "                       parameters,\n",
    "                       n_iter=1000,\n",
    "                       scoring='f1',\n",
    "                       n_jobs=-1,\n",
    "                       refit=True,\n",
    "                       verbose=3)\n",
    "    .fit(features_train, target_train))"
   ]
  },
  {
   "cell_type": "code",
   "execution_count": 42,
   "metadata": {},
   "outputs": [
    {
     "data": {
      "text/plain": [
       "{'n_estimators': 287, 'max_depth': 12}"
      ]
     },
     "execution_count": 42,
     "metadata": {},
     "output_type": "execute_result"
    }
   ],
   "source": [
    "extra_trees_classifier_weighted_parameters.best_params_"
   ]
  },
  {
   "cell_type": "code",
   "execution_count": 43,
   "metadata": {},
   "outputs": [
    {
     "name": "stdout",
     "output_type": "stream",
     "text": [
      "Точность: 0.8111\n",
      "Полнота: 0.3419\n",
      "F1-мера: 0.4811\n"
     ]
    }
   ],
   "source": [
    "extra_trees_classifier_weighted = (ExtraTreesClassifier\n",
    "                            .set_params(ExtraTreesClassifier(random_state=12345,\n",
    "                                                             class_weight=None,\n",
    "                                                             n_jobs=-1),\n",
    "                                        **extra_trees_classifier_weighted_parameters\n",
    "                                        .best_params_)\n",
    "                            .fit(features_train, target_train))\n",
    "\n",
    "extra_trees_classifier_weighted_predicted_valid = (extra_trees_classifier_weighted\n",
    "                                                   .predict(features_valid))\n",
    "\n",
    "print('Точность: {:.4f}'\n",
    "      .format(precision_score(target_valid,\n",
    "                              extra_trees_classifier_weighted_predicted_valid)))\n",
    "print('Полнота: {:.4f}'\n",
    "      .format(recall_score(target_valid,\n",
    "                           extra_trees_classifier_weighted_predicted_valid)))\n",
    "print('F1-мера: {:.4f}'\n",
    "      .format(f1_score(target_valid,\n",
    "                       extra_trees_classifier_weighted_predicted_valid)))"
   ]
  },
  {
   "cell_type": "markdown",
   "metadata": {},
   "source": [
    "3.3. Сбалансируем классы методом **upsampling**:"
   ]
  },
  {
   "cell_type": "code",
   "execution_count": 44,
   "metadata": {},
   "outputs": [
    {
     "name": "stdout",
     "output_type": "stream",
     "text": [
      "Fitting 5 folds for each of 1000 candidates, totalling 5000 fits\n"
     ]
    },
    {
     "name": "stderr",
     "output_type": "stream",
     "text": [
      "[Parallel(n_jobs=-1)]: Using backend LokyBackend with 6 concurrent workers.\n",
      "[Parallel(n_jobs=-1)]: Done  20 tasks      | elapsed:    2.6s\n",
      "[Parallel(n_jobs=-1)]: Done 116 tasks      | elapsed:    9.9s\n",
      "[Parallel(n_jobs=-1)]: Done 276 tasks      | elapsed:   21.4s\n",
      "[Parallel(n_jobs=-1)]: Done 500 tasks      | elapsed:   40.5s\n",
      "[Parallel(n_jobs=-1)]: Done 788 tasks      | elapsed:  1.0min\n",
      "[Parallel(n_jobs=-1)]: Done 1140 tasks      | elapsed:  1.5min\n",
      "[Parallel(n_jobs=-1)]: Done 1556 tasks      | elapsed:  2.1min\n",
      "[Parallel(n_jobs=-1)]: Done 2036 tasks      | elapsed:  2.7min\n",
      "[Parallel(n_jobs=-1)]: Done 2580 tasks      | elapsed:  3.4min\n",
      "[Parallel(n_jobs=-1)]: Done 3188 tasks      | elapsed:  4.2min\n",
      "[Parallel(n_jobs=-1)]: Done 3860 tasks      | elapsed:  5.1min\n",
      "[Parallel(n_jobs=-1)]: Done 4596 tasks      | elapsed:  6.0min\n"
     ]
    },
    {
     "name": "stdout",
     "output_type": "stream",
     "text": [
      "Wall time: 6min 29s\n"
     ]
    },
    {
     "name": "stderr",
     "output_type": "stream",
     "text": [
      "[Parallel(n_jobs=-1)]: Done 5000 out of 5000 | elapsed:  6.5min finished\n"
     ]
    }
   ],
   "source": [
    "%%time\n",
    "\n",
    "parameters = {'n_estimators': range(0, 200),\n",
    "             'max_depth': range (0, 30)}\n",
    "\n",
    "extra_trees_classifier_upsampled_parameters = (\n",
    "    RandomizedSearchCV(ExtraTreesClassifier(criterion='entropy',\n",
    "                                            random_state=12345,\n",
    "                                            class_weight=None,\n",
    "                                            n_jobs=-1),\n",
    "                       parameters,\n",
    "                       n_iter=1000,\n",
    "                       scoring='f1',\n",
    "                       n_jobs=-1,\n",
    "                       refit=True,\n",
    "                       verbose=3)\n",
    "    .fit(features_train_upsampled, target_train_upsampled))"
   ]
  },
  {
   "cell_type": "code",
   "execution_count": 45,
   "metadata": {},
   "outputs": [
    {
     "data": {
      "text/plain": [
       "{'n_estimators': 44, 'max_depth': 26}"
      ]
     },
     "execution_count": 45,
     "metadata": {},
     "output_type": "execute_result"
    }
   ],
   "source": [
    "extra_trees_classifier_upsampled_parameters.best_params_"
   ]
  },
  {
   "cell_type": "code",
   "execution_count": 46,
   "metadata": {},
   "outputs": [
    {
     "name": "stdout",
     "output_type": "stream",
     "text": [
      "Точность: 0.6898\n",
      "Полнота: 0.3958\n",
      "F1-мера: 0.5030\n"
     ]
    }
   ],
   "source": [
    "extra_trees_classifier_upsampled = (ExtraTreesClassifier\n",
    "                            .set_params(ExtraTreesClassifier(random_state=12345,\n",
    "                                                             class_weight=None,\n",
    "                                                             n_jobs=-1),\n",
    "                                        **extra_trees_classifier_upsampled_parameters\n",
    "                                        .best_params_)\n",
    "                            .fit(features_train_upsampled, target_train_upsampled))\n",
    "\n",
    "extra_trees_classifier_upsampled_predicted_valid = (extra_trees_classifier_upsampled\n",
    "                                                              .predict(features_valid))\n",
    "\n",
    "print('Точность: {:.4f}'\n",
    "      .format(precision_score(target_valid,\n",
    "                              extra_trees_classifier_upsampled_predicted_valid)))\n",
    "print('Полнота: {:.4f}'\n",
    "      .format(recall_score(target_valid,\n",
    "                           extra_trees_classifier_upsampled_predicted_valid)))\n",
    "print('F1-мера: {:.4f}'\n",
    "      .format(f1_score(target_valid,\n",
    "                       extra_trees_classifier_upsampled_predicted_valid)))"
   ]
  },
  {
   "cell_type": "markdown",
   "metadata": {},
   "source": [
    "3.4. Сбалансируем классы методом **downsampling**:"
   ]
  },
  {
   "cell_type": "code",
   "execution_count": 47,
   "metadata": {},
   "outputs": [
    {
     "name": "stdout",
     "output_type": "stream",
     "text": [
      "Fitting 5 folds for each of 1000 candidates, totalling 5000 fits\n"
     ]
    },
    {
     "name": "stderr",
     "output_type": "stream",
     "text": [
      "[Parallel(n_jobs=-1)]: Using backend LokyBackend with 6 concurrent workers.\n",
      "[Parallel(n_jobs=-1)]: Done  20 tasks      | elapsed:    0.9s\n",
      "[Parallel(n_jobs=-1)]: Done 116 tasks      | elapsed:    5.3s\n",
      "[Parallel(n_jobs=-1)]: Done 276 tasks      | elapsed:   12.9s\n",
      "[Parallel(n_jobs=-1)]: Done 500 tasks      | elapsed:   22.8s\n",
      "[Parallel(n_jobs=-1)]: Done 788 tasks      | elapsed:   35.5s\n",
      "[Parallel(n_jobs=-1)]: Done 1140 tasks      | elapsed:   51.8s\n",
      "[Parallel(n_jobs=-1)]: Done 1556 tasks      | elapsed:  1.2min\n",
      "[Parallel(n_jobs=-1)]: Done 2036 tasks      | elapsed:  1.6min\n",
      "[Parallel(n_jobs=-1)]: Done 2580 tasks      | elapsed:  2.0min\n",
      "[Parallel(n_jobs=-1)]: Done 3188 tasks      | elapsed:  2.5min\n",
      "[Parallel(n_jobs=-1)]: Done 3860 tasks      | elapsed:  3.0min\n",
      "[Parallel(n_jobs=-1)]: Done 4596 tasks      | elapsed:  3.5min\n"
     ]
    },
    {
     "name": "stdout",
     "output_type": "stream",
     "text": [
      "Wall time: 3min 51s\n"
     ]
    },
    {
     "name": "stderr",
     "output_type": "stream",
     "text": [
      "[Parallel(n_jobs=-1)]: Done 5000 out of 5000 | elapsed:  3.9min finished\n"
     ]
    }
   ],
   "source": [
    "%%time\n",
    "\n",
    "parameters = {'n_estimators': range(0, 200),\n",
    "             'max_depth': range (0, 30)}\n",
    "\n",
    "extra_trees_classifier_downsampled_parameters = (\n",
    "    RandomizedSearchCV(ExtraTreesClassifier(criterion='entropy',\n",
    "                                            random_state=12345,\n",
    "                                            class_weight=None,\n",
    "                                            n_jobs=-1),\n",
    "                       parameters,\n",
    "                       n_iter=1000,\n",
    "                       scoring='f1',\n",
    "                       n_jobs=-1,\n",
    "                       refit=True,\n",
    "                       verbose=3)\n",
    "    .fit(features_train_downsampled, target_train_downsampled))"
   ]
  },
  {
   "cell_type": "code",
   "execution_count": 48,
   "metadata": {},
   "outputs": [
    {
     "data": {
      "text/plain": [
       "{'n_estimators': 120, 'max_depth': 8}"
      ]
     },
     "execution_count": 48,
     "metadata": {},
     "output_type": "execute_result"
    }
   ],
   "source": [
    "extra_trees_classifier_downsampled_parameters.best_params_"
   ]
  },
  {
   "cell_type": "code",
   "execution_count": 49,
   "metadata": {},
   "outputs": [
    {
     "name": "stdout",
     "output_type": "stream",
     "text": [
      "Точность: 0.2897\n",
      "Полнота: 0.9532\n",
      "F1-мера: 0.4443\n"
     ]
    }
   ],
   "source": [
    "extra_trees_classifier_downsampled = (ExtraTreesClassifier\n",
    "                            .set_params(ExtraTreesClassifier(random_state=12345,\n",
    "                                                             class_weight=None,\n",
    "                                                             n_jobs=-1),\n",
    "                                        **extra_trees_classifier_downsampled_parameters\n",
    "                                        .best_params_)\n",
    "                            .fit(features_train_downsampled, target_train_downsampled))\n",
    "\n",
    "extra_trees_classifier_downsampled_predicted_valid = (extra_trees_classifier_downsampled\n",
    "                                                                .predict(features_valid))\n",
    "\n",
    "print('Точность: {:.4f}'\n",
    "      .format(precision_score(target_valid,\n",
    "                              extra_trees_classifier_downsampled_predicted_valid)))\n",
    "print('Полнота: {:.4f}'\n",
    "      .format(recall_score(target_valid,\n",
    "                           extra_trees_classifier_downsampled_predicted_valid)))\n",
    "print('F1-мера: {:.4f}'\n",
    "      .format(f1_score(target_valid,\n",
    "                       extra_trees_classifier_downsampled_predicted_valid)))"
   ]
  },
  {
   "cell_type": "code",
   "execution_count": 50,
   "metadata": {},
   "outputs": [],
   "source": [
    "data_f1 = [\n",
    "    ['Логистическая регрессия',\n",
    "     f1_score(target_valid, logistic_regression_unbalanced_predicted_valid),\n",
    "     f1_score(target_valid, logistic_regression_weighted_predicted_valid),\n",
    "     f1_score(target_valid, logistic_regression_upsampled_predicted_valid),\n",
    "     f1_score(target_valid, logistic_regression_downsampled_predicted_valid)],\n",
    "           \n",
    "    ['Случайный лес',\n",
    "     f1_score(target_valid, random_forest_classifier_unbalanced_predicted_valid),\n",
    "     f1_score(target_valid, random_forest_classifier_weighted_predicted_valid),\n",
    "     f1_score(target_valid, random_forest_classifier_upsampled_predicted_valid),\n",
    "     f1_score(target_valid, random_forest_classifier_downsampled_predicted_valid)],\n",
    "    \n",
    "    ['Экстремально рандомизированные деревья',\n",
    "     f1_score(target_valid, extra_trees_classifier_unbalanced_predicted_valid),\n",
    "     f1_score(target_valid, extra_trees_classifier_weighted_predicted_valid),\n",
    "     f1_score(target_valid, extra_trees_classifier_upsampled_predicted_valid),\n",
    "     f1_score(target_valid, extra_trees_classifier_downsampled_predicted_valid)]]\n",
    "\n",
    "columns_f1 = ['Модель',\n",
    "              'Без учёта дисбаланса классов',\n",
    "              'Взвешивание',\n",
    "              'Upsampling',\n",
    "              'Downsampling']\n",
    "\n",
    "\n",
    "data_models_f1 = pd.DataFrame(data=data_f1, columns=columns_f1)"
   ]
  },
  {
   "cell_type": "markdown",
   "metadata": {},
   "source": [
    "**Подведём итоги**:"
   ]
  },
  {
   "cell_type": "code",
   "execution_count": 51,
   "metadata": {},
   "outputs": [
    {
     "data": {
      "text/html": [
       "<div>\n",
       "<style scoped>\n",
       "    .dataframe tbody tr th:only-of-type {\n",
       "        vertical-align: middle;\n",
       "    }\n",
       "\n",
       "    .dataframe tbody tr th {\n",
       "        vertical-align: top;\n",
       "    }\n",
       "\n",
       "    .dataframe thead th {\n",
       "        text-align: right;\n",
       "    }\n",
       "</style>\n",
       "<table border=\"1\" class=\"dataframe\">\n",
       "  <thead>\n",
       "    <tr style=\"text-align: right;\">\n",
       "      <th></th>\n",
       "      <th>Модель</th>\n",
       "      <th>Без учёта дисбаланса классов</th>\n",
       "      <th>Взвешивание</th>\n",
       "      <th>Upsampling</th>\n",
       "      <th>Downsampling</th>\n",
       "    </tr>\n",
       "  </thead>\n",
       "  <tbody>\n",
       "    <tr>\n",
       "      <th>0</th>\n",
       "      <td>Логистическая регрессия</td>\n",
       "      <td>0.295255</td>\n",
       "      <td>0.502530</td>\n",
       "      <td>0.503333</td>\n",
       "      <td>0.423139</td>\n",
       "    </tr>\n",
       "    <tr>\n",
       "      <th>1</th>\n",
       "      <td>Случайный лес</td>\n",
       "      <td>0.562963</td>\n",
       "      <td>0.647919</td>\n",
       "      <td>0.601307</td>\n",
       "      <td>0.484480</td>\n",
       "    </tr>\n",
       "    <tr>\n",
       "      <th>2</th>\n",
       "      <td>Экстремально рандомизированные деревья</td>\n",
       "      <td>0.529762</td>\n",
       "      <td>0.481054</td>\n",
       "      <td>0.502976</td>\n",
       "      <td>0.444323</td>\n",
       "    </tr>\n",
       "  </tbody>\n",
       "</table>\n",
       "</div>"
      ],
      "text/plain": [
       "                                   Модель  Без учёта дисбаланса классов  \\\n",
       "0                 Логистическая регрессия                      0.295255   \n",
       "1                           Случайный лес                      0.562963   \n",
       "2  Экстремально рандомизированные деревья                      0.529762   \n",
       "\n",
       "   Взвешивание  Upsampling  Downsampling  \n",
       "0     0.502530    0.503333      0.423139  \n",
       "1     0.647919    0.601307      0.484480  \n",
       "2     0.481054    0.502976      0.444323  "
      ]
     },
     "execution_count": 51,
     "metadata": {},
     "output_type": "execute_result"
    }
   ],
   "source": [
    "data_models_f1"
   ]
  },
  {
   "cell_type": "markdown",
   "metadata": {},
   "source": [
    "Лидер — **случайный лес, обученный на взвешенной выборке**."
   ]
  },
  {
   "cell_type": "markdown",
   "metadata": {},
   "source": [
    "<div style=\"border: solid darkcyan 3px; padding: 30px\">\n",
    "    <h3 style=\"color:black; margin-bottom:25px\"> Выводы: </h3>\n",
    "    <ul>\n",
    "        <li><b>Обучены 3 различные модели</b>:</li>\n",
    "        <ol>\n",
    "            <li><b>Логистическая регрессия</b>;</li>\n",
    "            <li><b>Случайный лес</b>;</li>\n",
    "            <li><b>Экстремально рандомизированные деревья</b>;</li>\n",
    "        </ol>\n",
    "        <li><b>Каждая модель обучена на четырёх выборках — в первой не учтён дисбаланс классов, во второй классы сбалансированы взвешиванием, в третьей применён upsampling, а в четвёртой — downsampling</b>;</li>\n",
    "        <li><b>Как и ожидалось, обучение модели на выборке, сбалансированной с помощью downsampling, даёт результаты хуже, чем при использовании upsampling, так как теряется часть объектов</b>;</li>\n",
    "        <li><b>Чаще всего взвешивание даёт большую эффективность, чем upsampling или downsampling</b>;</li>\n",
    "        <li><b>В качестве финальной модели выбран случайный лес, обученный на взвешенной выборке</b>.</li>\n",
    "    </ul>\n",
    "</div>"
   ]
  },
  {
   "cell_type": "markdown",
   "metadata": {},
   "source": [
    "## 4. Обучение и проверка финальной модели"
   ]
  },
  {
   "cell_type": "markdown",
   "metadata": {},
   "source": [
    "Настало время поручить перебор гиперпараметров GridSearchCV:"
   ]
  },
  {
   "cell_type": "code",
   "execution_count": 52,
   "metadata": {},
   "outputs": [
    {
     "name": "stdout",
     "output_type": "stream",
     "text": [
      "Fitting 5 folds for each of 8671 candidates, totalling 43355 fits\n"
     ]
    },
    {
     "name": "stderr",
     "output_type": "stream",
     "text": [
      "[Parallel(n_jobs=-1)]: Using backend LokyBackend with 6 concurrent workers.\n",
      "[Parallel(n_jobs=-1)]: Done  28 tasks      | elapsed:    1.2s\n",
      "[Parallel(n_jobs=-1)]: Done 220 tasks      | elapsed:    8.7s\n",
      "[Parallel(n_jobs=-1)]: Done 540 tasks      | elapsed:   23.0s\n",
      "[Parallel(n_jobs=-1)]: Done 988 tasks      | elapsed:   55.2s\n",
      "[Parallel(n_jobs=-1)]: Done 1292 tasks      | elapsed:  1.4min\n",
      "[Parallel(n_jobs=-1)]: Done 1644 tasks      | elapsed:  1.9min\n",
      "[Parallel(n_jobs=-1)]: Done 2060 tasks      | elapsed:  2.2min\n",
      "[Parallel(n_jobs=-1)]: Done 2540 tasks      | elapsed:  2.9min\n",
      "[Parallel(n_jobs=-1)]: Done 3084 tasks      | elapsed:  3.9min\n",
      "[Parallel(n_jobs=-1)]: Done 3692 tasks      | elapsed:  4.4min\n",
      "[Parallel(n_jobs=-1)]: Done 4364 tasks      | elapsed:  5.7min\n",
      "[Parallel(n_jobs=-1)]: Done 5100 tasks      | elapsed:  6.6min\n",
      "[Parallel(n_jobs=-1)]: Done 5900 tasks      | elapsed:  8.2min\n",
      "[Parallel(n_jobs=-1)]: Done 6764 tasks      | elapsed:  9.3min\n",
      "[Parallel(n_jobs=-1)]: Done 7692 tasks      | elapsed: 11.3min\n",
      "[Parallel(n_jobs=-1)]: Done 8684 tasks      | elapsed: 13.1min\n",
      "[Parallel(n_jobs=-1)]: Done 9740 tasks      | elapsed: 15.1min\n",
      "[Parallel(n_jobs=-1)]: Done 10860 tasks      | elapsed: 17.7min\n",
      "[Parallel(n_jobs=-1)]: Done 12044 tasks      | elapsed: 20.9min\n",
      "[Parallel(n_jobs=-1)]: Done 13292 tasks      | elapsed: 23.8min\n",
      "[Parallel(n_jobs=-1)]: Done 14604 tasks      | elapsed: 26.9min\n",
      "[Parallel(n_jobs=-1)]: Done 15980 tasks      | elapsed: 30.6min\n",
      "[Parallel(n_jobs=-1)]: Done 17420 tasks      | elapsed: 34.6min\n",
      "[Parallel(n_jobs=-1)]: Done 18924 tasks      | elapsed: 39.1min\n",
      "[Parallel(n_jobs=-1)]: Done 20492 tasks      | elapsed: 44.0min\n",
      "[Parallel(n_jobs=-1)]: Done 22124 tasks      | elapsed: 49.3min\n",
      "[Parallel(n_jobs=-1)]: Done 23820 tasks      | elapsed: 55.1min\n",
      "[Parallel(n_jobs=-1)]: Done 25580 tasks      | elapsed: 60.7min\n",
      "[Parallel(n_jobs=-1)]: Done 27404 tasks      | elapsed: 66.1min\n",
      "[Parallel(n_jobs=-1)]: Done 29292 tasks      | elapsed: 72.1min\n",
      "[Parallel(n_jobs=-1)]: Done 31244 tasks      | elapsed: 79.2min\n",
      "[Parallel(n_jobs=-1)]: Done 33260 tasks      | elapsed: 85.4min\n",
      "[Parallel(n_jobs=-1)]: Done 35340 tasks      | elapsed: 91.9min\n",
      "[Parallel(n_jobs=-1)]: Done 37484 tasks      | elapsed: 99.7min\n",
      "[Parallel(n_jobs=-1)]: Done 39692 tasks      | elapsed: 106.1min\n",
      "[Parallel(n_jobs=-1)]: Done 41964 tasks      | elapsed: 114.4min\n",
      "[Parallel(n_jobs=-1)]: Done 43355 out of 43355 | elapsed: 119.2min finished\n"
     ]
    },
    {
     "name": "stdout",
     "output_type": "stream",
     "text": [
      "Wall time: 1h 59min 12s\n"
     ]
    }
   ],
   "source": [
    "%%time\n",
    "\n",
    "features_train_final = pd.concat([features_train] + [features_valid])\n",
    "target_train_final = pd.concat([target_train] + [target_valid])\n",
    "\n",
    "features_train_final, target_train_final = shuffle(\n",
    "    features_train_final, target_train_final, random_state=12345)\n",
    "\n",
    "parameters = {'n_estimators': range(1, 300),\n",
    "              'max_depth': range (1, 30)}\n",
    "\n",
    "#parameters = {'n_estimators': range(190, 191),\n",
    "#              'max_depth': range(10, 11)}\n",
    "\n",
    "model_final_parameters = (\n",
    "    GridSearchCV(RandomForestClassifier(criterion='entropy',\n",
    "                                        random_state=12345,\n",
    "                                        class_weight='balanced',\n",
    "                                        n_jobs=-1),\n",
    "                 parameters,\n",
    "                 scoring='f1',\n",
    "                 n_jobs=-1,\n",
    "                 refit=True,\n",
    "                 verbose=3)\n",
    "    .fit(features_train_final, target_train_final))"
   ]
  },
  {
   "cell_type": "code",
   "execution_count": 53,
   "metadata": {},
   "outputs": [
    {
     "data": {
      "text/plain": [
       "{'max_depth': 9, 'n_estimators': 147}"
      ]
     },
     "execution_count": 53,
     "metadata": {},
     "output_type": "execute_result"
    }
   ],
   "source": [
    "model_final_parameters.best_params_"
   ]
  },
  {
   "cell_type": "code",
   "execution_count": 54,
   "metadata": {},
   "outputs": [
    {
     "name": "stdout",
     "output_type": "stream",
     "text": [
      "Точность: 0.5479\n",
      "Полнота: 0.6292\n",
      "F1-мера: 0.5857\n"
     ]
    }
   ],
   "source": [
    "scaler = StandardScaler()\n",
    "scaler.fit(features_test[numeric])\n",
    "\n",
    "features_test_scaled = features_test\n",
    "features_test_scaled[numeric] = scaler.transform(features_test[numeric])\n",
    "\n",
    "\n",
    "\n",
    "model_final = (RandomForestClassifier(random_state=12345,\n",
    "                                      n_estimators=190,\n",
    "                                      max_depth=10,\n",
    "                                      class_weight='balanced',\n",
    "                                      n_jobs=-1)\n",
    "               .fit(features_train_final, target_train_final))\n",
    "\n",
    "model_final_predicted_test = model_final.predict(features_test_scaled)\n",
    "\n",
    "print('Точность: {:.4f}'\n",
    "      .format(precision_score(target_test, model_final_predicted_test)))\n",
    "print('Полнота: {:.4f}'\n",
    "      .format(recall_score(target_test, model_final_predicted_test)))\n",
    "print('F1-мера: {:.4f}'\n",
    "      .format(f1_score(target_test, model_final_predicted_test)))"
   ]
  },
  {
   "cell_type": "markdown",
   "metadata": {},
   "source": [
    "**Условие выполняется на тестовой выборке**, это успех.\n",
    "\n",
    "Построим **кривую ошибок**, сравним нашу модель со случайной и оценим **площадь под кривой**:"
   ]
  },
  {
   "cell_type": "code",
   "execution_count": 55,
   "metadata": {},
   "outputs": [
    {
     "data": {
      "image/png": "[encoded data removed]",
      "text/plain": [
       "<Figure size 1008x720 with 1 Axes>"
      ]
     },
     "metadata": {},
     "output_type": "display_data"
    },
    {
     "name": "stdout",
     "output_type": "stream",
     "text": [
      "AUC-ROC:  0.8549447719747776\n"
     ]
    }
   ],
   "source": [
    "probabilities_test = model_final.predict_proba(features_test_scaled)\n",
    "probabilities_one_test = probabilities_test[:, 1]\n",
    "\n",
    "fpr, tpr, thresholds = roc_curve(target_test, probabilities_one_test)\n",
    "\n",
    "plt.figure()\n",
    "plt.plot(fpr, tpr)\n",
    "plt.plot([0, 1], [0, 1], linestyle='--')\n",
    "plt.xlim([0.0, 1.0])\n",
    "plt.ylim([0.0, 1.0])\n",
    "plt.xlabel('False Positive Rate')\n",
    "plt.ylabel('True Positive Rate')\n",
    "plt.title('ROC-кривая')\n",
    "plt.show()\n",
    "\n",
    "auc_roc = roc_auc_score(target_test, probabilities_one_test)\n",
    "\n",
    "print('AUC-ROC: ', auc_roc)"
   ]
  },
  {
   "cell_type": "code",
   "execution_count": 56,
   "metadata": {},
   "outputs": [],
   "source": [
    "#joblib.dump(model_final, 'model_final.joblib')"
   ]
  },
  {
   "cell_type": "markdown",
   "metadata": {},
   "source": [
    "<div style=\"border: solid darkcyan 3px; padding: 30px\">\n",
    "    <h3 style=\"color:black; margin-bottom:25px\"> Общие выводы: </h3>\n",
    "    <ul>\n",
    "        <li><b>Загружен датасет, получена общая информация</b>;</li>\n",
    "        <li><b>Заполнены пропуски в данных, исключены признаки, не коррелирующие с целевым</b>;</li>\n",
    "        <li><b>Порядковым кодированием из категориальных признаков получены численные</b>;</li>\n",
    "        <li><b>Произведено разбиение на обучающую, валидационную и тестовую выборки, выделен целевой признак</b>;</li>\n",
    "        <li><b>Обучены и оценены модели:\n",
    "            <ol>\n",
    "                <li><b>Логистическая регрессия</b>;</li>\n",
    "                <li><b>Случайный лес</b>;</li>\n",
    "                <li><b>Экстремально рандомизированные деревья</b>;</li>\n",
    "            </ol>\n",
    "        <li><b>Каждая модель обучена на четырёх выборках — в первой не учтён дисбаланс классов, во второй классы сбалансированы взвешиванием, в третьей применён upsampling, а в четвёртой — downsampling</b>;</li>\n",
    "        <li><b>В большинстве случаев эффективность обученной модели возрастает в ряду \"downsampling —> upsampling —> взвешивание классов\"</b>;</li>\n",
    "        <li><b>В качестве финальной модели выбран случайный лес, обученный на взвешенной выборке</b>;</li>\n",
    "            <li><b>Найдены оптимальные значения гиперпараметров, достигнуто высокое значение F1-меры</b>;</li>\n",
    "        <li><b>Проведено финальное тестирование</b>.</li>\n",
    "    </ul>\n",
    "</div>"
   ]
  }
 ],
 "metadata": {
  "kernelspec": {
   "display_name": "Python 3",
   "language": "python",
   "name": "python3"
  },
  "language_info": {
   "codemirror_mode": {
    "name": "ipython",
    "version": 3
   },
   "file_extension": ".py",
   "mimetype": "text/x-python",
   "name": "python",
   "nbconvert_exporter": "python",
   "pygments_lexer": "ipython3",
   "version": "3.7.6"
  }
 },
 "nbformat": 4,
 "nbformat_minor": 4
}
